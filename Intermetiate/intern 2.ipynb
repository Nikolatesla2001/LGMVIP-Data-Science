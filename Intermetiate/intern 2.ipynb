{
 "cells": [
  {
   "cell_type": "markdown",
   "metadata": {},
   "source": [
    "# LGMVIP Data Science Internship"
   ]
  },
  {
   "cell_type": "markdown",
   "metadata": {},
   "source": [
    "## INTERMEDIATE LEVEL TASK 2: Decision Tree "
   ]
  },
  {
   "cell_type": "code",
   "execution_count": null,
   "metadata": {},
   "outputs": [],
   "source": [
    "import pandas as pd\n",
    "\n",
    "#from sklearn.externals.six import StringIO\n",
    "from sklearn.tree import DecisionTreeClassifier, export_graphviz\n",
    "\n",
    "import pydotplus\n",
    "import graphviz\n",
    "\n",
    "import matplotlib.image as mpimg\n",
    "import matplotlib.pyplot as plt\n",
    "%matplotlib inline"
   ]
  },
  {
   "cell_type": "code",
   "execution_count": null,
   "metadata": {},
   "outputs": [],
   "source": [
    "#define the column names for the pandas dataframe\n",
    "column_names = ['sepal_length', 'sepal_width', 'petal_length', 'petal_width', 'iris_class']\n",
    "\n",
    "#load the csv file into a new pandas dataframe\n",
    "iris_df = pd.read_csv('C:\\\\Users\\\\User\\\\Desktop\\\\NSE-TATAGLOBAL11.csv', names = column_names, header = None)\n",
    "\n",
    "#Load the input variables into X\n",
    "X = iris_df[['sepal_length', 'sepal_width', 'petal_length', 'petal_width']].values\n",
    "\n",
    "#Load the output variable into y\n",
    "y = iris_df['iris_class'].values"
   ]
  },
  {
   "cell_type": "code",
   "execution_count": null,
   "metadata": {},
   "outputs": [],
   "source": [
    "#Create an instance of the decision tree classifier\n",
    "dec_tree = DecisionTreeClassifier(criterion=\"entropy\")\n",
    "\n",
    "#Fit the model with the training data X_train and y_train\n",
    "dec_tree.fit(X, y)"
   ]
  },
  {
   "cell_type": "code",
   "execution_count": null,
   "metadata": {},
   "outputs": [],
   "source": [
    "#initialize a StringIO class\n",
    "dot_data = StringIO()\n",
    "\n",
    "#file name to save the image\n",
    "filename = \"iris_flower_tree.png\"\n",
    "\n",
    "feature_names = ['sepal_length', 'sepal_width', 'petal_length', 'petal_width'] #input values\n",
    "class_names = ['Iris Setosa', 'Iris Versicolour', 'Iris Virginica'] #output values\n",
    "\n",
    "#convert the decision tree model into dot data\n",
    "out = export_graphviz(dec_tree,\n",
    "                      feature_names=feature_names,\n",
    "                      out_file=dot_data,\n",
    "                      class_names=class_names,\n",
    "                      filled=True,\n",
    "                      special_characters=True,\n",
    "                      rotate=False)\n",
    "\n",
    "#convert the dot data into a graph\n",
    "graph = pydotplus.graph_from_dot_data(dot_data.getvalue())\n",
    "\n",
    "#save the graph\n",
    "graph.write_png(filename)\n",
    "\n",
    "#open and plot the graph\n",
    "img = mpimg.imread(filename)\n",
    "plt.figure(figsize=(100, 200))\n",
    "plt.imshow(img, interpolation='nearest');"
   ]
  },
  {
   "cell_type": "code",
   "execution_count": null,
   "metadata": {},
   "outputs": [],
   "source": []
  }
 ],
 "metadata": {
  "kernelspec": {
   "display_name": "Python 3",
   "language": "python",
   "name": "python3"
  },
  "language_info": {
   "codemirror_mode": {
    "name": "ipython",
    "version": 3
   },
   "file_extension": ".py",
   "mimetype": "text/x-python",
   "name": "python",
   "nbconvert_exporter": "python",
   "pygments_lexer": "ipython3",
   "version": "3.8.5"
  }
 },
 "nbformat": 4,
 "nbformat_minor": 4
}
